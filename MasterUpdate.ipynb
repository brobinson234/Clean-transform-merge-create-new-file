{
 "cells": [
  {
   "cell_type": "code",
   "execution_count": 64,
   "metadata": {},
   "outputs": [],
   "source": [
    "# This script takes in two xlsx files and returns two new updated xlsx files wihtout changing the original files.\n",
    "# The only new info to add before running is the text you want added to the notes. This has the following for the\n",
    "# the example\n",
    "new_text_for_notes = \"2.8.2022-br DOS updated for trial\"\n"
   ]
  },
  {
   "cell_type": "code",
   "execution_count": 65,
   "metadata": {},
   "outputs": [],
   "source": [
    "import pandas as pd"
   ]
  },
  {
   "cell_type": "code",
   "execution_count": 66,
   "metadata": {},
   "outputs": [],
   "source": [
    "# Convert the Excel files into panda dataframes #new_dos = 'New_DOS_file.xlsx' #master = 'MasterFile.xlsx'\n",
    "\n",
    "dos_df = pd.read_excel('TrialDOSUpdate.xlsx', header=0, index_col=False, keep_default_na=True)\n",
    "master_df = pd.read_excel('TrialMaster.xlsx', header=0, index_col=False, keep_default_na=True)\n"
   ]
  },
  {
   "cell_type": "code",
   "execution_count": 68,
   "metadata": {},
   "outputs": [
    {
     "name": "stdout",
     "output_type": "stream",
     "text": [
      "    chartID  Begin DOS    End DOS\n",
      "0      1558 2021-03-03 2021-03-05\n",
      "1      1558 2021-03-06 2021-03-06\n",
      "2      1558 2021-03-07 2021-03-07\n",
      "3      1558 2021-03-08 2021-03-08\n",
      "4      1558 2021-03-09 2021-03-09\n",
      "5      1129 2021-03-10 2021-03-10\n",
      "6      1129 2021-03-11 2021-03-11\n",
      "7      1129 2021-03-12 2021-03-12\n",
      "8      1212 2021-03-13 2021-03-13\n",
      "9      1745 2021-03-14 2021-03-14\n",
      "10     1745 2021-03-15 2021-03-15\n",
      "11     1745 2021-03-16 2021-03-16\n",
      "12     1745 2021-03-17 2021-03-17\n",
      "13     1745 2021-03-18 2021-03-18\n",
      "14     1745 2021-03-19 2021-03-19\n",
      "15     1745 2021-03-20 2021-03-20\n",
      "16     1745 2021-03-21 2021-03-21\n",
      "17     1745 2021-03-22 2021-03-22\n",
      "18     1745 2021-03-23 2021-03-23\n",
      "19     1745 2021-03-24 2021-03-24\n",
      "20     1745 2021-03-25 2021-03-25\n",
      "21     1745 2021-03-26 2021-03-26\n",
      "22     1745 2021-03-27 2021-03-27\n",
      "23     1745 2021-03-28 2021-03-28\n",
      "24     1745 2021-03-29 2021-03-29\n",
      "25     1745 2021-03-30 2021-03-30\n",
      "26     1745 2021-03-31 2021-03-31\n",
      "27     1745 2021-04-01 2021-04-01\n",
      "28     1745 2021-04-02 2021-04-02\n",
      "29     1745 2021-04-03 2021-04-03\n",
      "30     1745 2021-04-04 2021-04-04\n",
      "31     1745 2021-04-05 2021-04-05\n",
      "32     1745 2021-04-06 2021-04-06\n",
      "33     1745 2021-04-07 2021-04-07\n",
      "34     1745 2021-04-08 2021-04-08\n",
      "35     1745 2021-04-09 2021-04-09\n",
      "36     1745 2021-04-10 2021-04-10\n",
      "37     1745 2021-04-11 2021-04-11\n",
      "38     1745 2021-04-12 2021-04-12\n",
      "39     1745 2021-04-13 2021-04-13\n",
      "40     1745 2021-04-14 2021-04-14\n",
      "41     1745 2021-04-15 2021-04-15\n",
      "42     1745 2021-04-16 2021-04-16\n",
      "43     1745 2021-04-17 2021-04-17\n",
      "44     1745 2021-04-18 2021-04-18\n",
      "45     1745 2021-04-19 2021-04-19\n",
      "46     1745 2021-04-20 2021-04-20\n",
      "47     1745 2021-04-21 2021-04-21\n",
      "48     1745 2021-04-22 2021-04-22\n",
      "49     1745 2021-04-23 2021-04-23\n",
      "50     1745 2021-04-24 2021-04-24\n",
      "51     1745 2021-04-25 2021-04-25\n",
      "52     1745 2021-04-26 2021-04-26\n",
      "     Dummy Row  chartID  Begin DOS Dummy Row2  \\\n",
      "0           Do     1129 2021-06-01         Or   \n",
      "1          not     1212 2021-06-01       this   \n",
      "2       change     1745 2021-06-01        one   \n",
      "3         this     1558 2021-06-01      don't   \n",
      "4          row     1244 2021-10-01      touch   \n",
      "5  or this one    21345 2021-11-01         it   \n",
      "\n",
      "                                Notes  \n",
      "0                           overwrite  \n",
      "1                           overwrite  \n",
      "2                           OvERWrite  \n",
      "3                           OvErwrite  \n",
      "4  dummy column shouldn't be replaced  \n",
      "5  dummy column shouldn't be replaced  \n"
     ]
    }
   ],
   "source": [
    "print(dos_df)\n",
    "print(master_df)"
   ]
  },
  {
   "cell_type": "code",
   "execution_count": 69,
   "metadata": {},
   "outputs": [],
   "source": [
    "# Need to convert to dates datatypes. I will also create a new column called rangeDOS for those requests that have \n",
    "# info in the Begin and End DOSs that need to be caputred. This is also where I format the cells.\n",
    "dos_df['Begin DOS'] = dos_df['Begin DOS'].dt.strftime('%m/%d/%Y')\n",
    "dos_df['End DOS'] = dos_df['End DOS'].dt.strftime('%m/%d/%Y')\n",
    "master_df['Begin DOS'] = master_df['Begin DOS'].dt.strftime('%m/%d/%Y')\n",
    "\n",
    "master_df['Begin DOS'] = master_df['Begin DOS'].astype(str)\n",
    "dos_df['Begin DOS'] = dos_df['Begin DOS'].astype(str)\n",
    "dos_df['End DOS'] = dos_df['End DOS'].astype(str)\n",
    "dos_df['Range DOS'] = dos_df[['Begin DOS', 'End DOS']].agg('-'.join, axis=1)\n",
    "\n"
   ]
  },
  {
   "cell_type": "code",
   "execution_count": 70,
   "metadata": {},
   "outputs": [
    {
     "name": "stdout",
     "output_type": "stream",
     "text": [
      "0    03/03/2021\n",
      "1    03/06/2021\n",
      "2    03/07/2021\n",
      "3    03/08/2021\n",
      "4    03/09/2021\n",
      "Name: Begin DOS, dtype: object\n",
      "<class 'pandas.core.series.Series'>\n",
      "0    03/03/2021-03/05/2021\n",
      "1    03/06/2021-03/06/2021\n",
      "2    03/07/2021-03/07/2021\n",
      "3    03/08/2021-03/08/2021\n",
      "4    03/09/2021-03/09/2021\n",
      "Name: Range DOS, dtype: object\n"
     ]
    }
   ],
   "source": [
    "print(dos_df['Begin DOS'].head())\n",
    "print(type(dos_df['Begin DOS']))\n",
    "print(dos_df[\"Range DOS\"].head())"
   ]
  },
  {
   "cell_type": "code",
   "execution_count": 71,
   "metadata": {},
   "outputs": [],
   "source": [
    "# Compare the begin and end DOS. By using the numpy select and not just where, we could add multiple conditions.\n",
    "# The result will be a new column that either has the Begin DOS or the Range DOS; this column will then be used \n",
    "# to create the concat list to add to the master.\n",
    "#conditions = [(dos_df['Begin DOS'] is dos_df['End DOS']), (dos_df['Begin DOS'] is not dos_df['End DOS'])]\n",
    "#choices = [dos_df['Begin DOS'], dos_df['Range DOS']]\n",
    "#dos_df['DOS to concat'] = np.select(conditions, choices, default=np.nan)\n",
    "\n",
    "for i in range(len(dos_df)):\n",
    "    if dos_df.loc[i,\"Begin DOS\"] == dos_df.loc[i,\"End DOS\"]:\n",
    "        dos_df.loc[i,\"DOS to concat\"] = dos_df.loc[i,\"Begin DOS\"]\n",
    "    else:\n",
    "        dos_df.loc[i,\"DOS to concat\"] = dos_df.loc[i,\"Range DOS\"]"
   ]
  },
  {
   "cell_type": "code",
   "execution_count": 72,
   "metadata": {},
   "outputs": [
    {
     "name": "stdout",
     "output_type": "stream",
     "text": [
      "chartID                           1558\n",
      "Begin DOS                   03/03/2021\n",
      "End DOS                     03/05/2021\n",
      "Range DOS        03/03/2021-03/05/2021\n",
      "DOS to concat    03/03/2021-03/05/2021\n",
      "Name: 0, dtype: object\n",
      "chartID                           1558\n",
      "Begin DOS                   03/06/2021\n",
      "End DOS                     03/06/2021\n",
      "Range DOS        03/06/2021-03/06/2021\n",
      "DOS to concat               03/06/2021\n",
      "Name: 1, dtype: object\n"
     ]
    }
   ],
   "source": [
    "print(dos_df.iloc[0])\n",
    "print(dos_df.iloc[1])"
   ]
  },
  {
   "cell_type": "code",
   "execution_count": 73,
   "metadata": {},
   "outputs": [],
   "source": [
    "#This step takes the dataframe and groups by the ChartID, making a list out of the all the \n",
    "# dates in the dos column into a list. We then want to drop any duplicates.\n",
    "grouped_chartIDs = dos_df.groupby(by='chartID', axis=0)['DOS to concat'].apply(lambda x : ', '.join(x)).reset_index()\n",
    "dos_to_add = grouped_chartIDs.drop_duplicates()\n"
   ]
  },
  {
   "cell_type": "code",
   "execution_count": 74,
   "metadata": {},
   "outputs": [
    {
     "name": "stdout",
     "output_type": "stream",
     "text": [
      "<class 'pandas.core.frame.DataFrame'>\n",
      "<class 'pandas.core.frame.DataFrame'>\n",
      "   chartID                                      DOS to concat\n",
      "0     1129                 03/10/2021, 03/11/2021, 03/12/2021\n",
      "1     1212                                         03/13/2021\n",
      "2     1558  03/03/2021-03/05/2021, 03/06/2021, 03/07/2021,...\n",
      "3     1745  03/14/2021, 03/15/2021, 03/16/2021, 03/17/2021...\n"
     ]
    }
   ],
   "source": [
    "print(type(dos_to_add))\n",
    "print(type(grouped_chartIDs))\n",
    "print(dos_to_add)\n"
   ]
  },
  {
   "cell_type": "code",
   "execution_count": 75,
   "metadata": {},
   "outputs": [],
   "source": [
    "# Now we want to export an excel\n",
    "dos_to_add.to_excel('newdosfile.xlsx', index=False)"
   ]
  },
  {
   "cell_type": "code",
   "execution_count": 76,
   "metadata": {},
   "outputs": [],
   "source": [
    "# Now we want to replace the DOS in the master with the updated DOSs\n",
    "#master_df['Begin DOS'] = master_df['chartID'].map(dos_to_add['chartID'],dos_to_add['DOS to concat'])\n",
    "for i in range(len(master_df)):\n",
    "    for x in range(len(dos_to_add)):\n",
    "        if dos_to_add.loc[x,\"chartID\"] == master_df.loc[i,\"chartID\"]:\n",
    "            master_df.loc[i,\"Begin DOS\"] = dos_to_add.loc[x,\"DOS to concat\"]\n",
    "            master_df.loc[i,\"Notes\"] = new_text_for_notes + \"; \" + master_df.loc[i,\"Notes\"]\n",
    "        else:\n",
    "            master_df.loc[i,\"Begin DOS\"] = master_df.loc[i,\"Begin DOS\"]"
   ]
  },
  {
   "cell_type": "code",
   "execution_count": 77,
   "metadata": {},
   "outputs": [
    {
     "name": "stdout",
     "output_type": "stream",
     "text": [
      "     Dummy Row  chartID                                          Begin DOS  \\\n",
      "0           Do     1129                 03/10/2021, 03/11/2021, 03/12/2021   \n",
      "1          not     1212                                         03/13/2021   \n",
      "2       change     1745  03/14/2021, 03/15/2021, 03/16/2021, 03/17/2021...   \n",
      "3         this     1558  03/03/2021-03/05/2021, 03/06/2021, 03/07/2021,...   \n",
      "4          row     1244                                         10/01/2021   \n",
      "5  or this one    21345                                         11/01/2021   \n",
      "\n",
      "  Dummy Row2                                         Notes  \n",
      "0         Or  2.8.2022-br DOS updated for trial; overwrite  \n",
      "1       this  2.8.2022-br DOS updated for trial; overwrite  \n",
      "2        one  2.8.2022-br DOS updated for trial; OvERWrite  \n",
      "3      don't  2.8.2022-br DOS updated for trial; OvErwrite  \n",
      "4      touch            dummy column shouldn't be replaced  \n",
      "5         it            dummy column shouldn't be replaced  \n",
      "<class 'pandas.core.frame.DataFrame'>\n"
     ]
    }
   ],
   "source": [
    "print(master_df)\n",
    "#master_df = master_df.reset_index(drop=True, inplace=True)\n",
    "print(type(master_df))\n"
   ]
  },
  {
   "cell_type": "code",
   "execution_count": 78,
   "metadata": {},
   "outputs": [],
   "source": [
    "# Now we want to export a new master excel file\n",
    "master_df.to_excel('NewMaster.xlsx', index=False)"
   ]
  }
 ],
 "metadata": {
  "interpreter": {
   "hash": "f96c3a179d1851100ae5f232c30bf4bb6307bf2f33303fb83516114f1bcd2a36"
  },
  "kernelspec": {
   "display_name": "Python 3.9.6 64-bit",
   "name": "python3"
  },
  "language_info": {
   "codemirror_mode": {
    "name": "ipython",
    "version": 3
   },
   "file_extension": ".py",
   "mimetype": "text/x-python",
   "name": "python",
   "nbconvert_exporter": "python",
   "pygments_lexer": "ipython3",
   "version": "3.9.6"
  },
  "orig_nbformat": 4
 },
 "nbformat": 4,
 "nbformat_minor": 2
}
